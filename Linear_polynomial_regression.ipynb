{
 "cells": [
  {
   "cell_type": "markdown",
   "id": "89d4556b",
   "metadata": {},
   "source": [
    "# Importing the libraries"
   ]
  },
  {
   "cell_type": "code",
   "execution_count": 1,
   "id": "21b8e36f",
   "metadata": {},
   "outputs": [],
   "source": [
    "import numpy as np\n",
    "import pandas as pd\n",
    "import matplotlib.pyplot as plt\n"
   ]
  },
  {
   "cell_type": "code",
   "execution_count": 2,
   "id": "632924b3",
   "metadata": {},
   "outputs": [
    {
     "data": {
      "text/html": [
       "<div>\n",
       "<style scoped>\n",
       "    .dataframe tbody tr th:only-of-type {\n",
       "        vertical-align: middle;\n",
       "    }\n",
       "\n",
       "    .dataframe tbody tr th {\n",
       "        vertical-align: top;\n",
       "    }\n",
       "\n",
       "    .dataframe thead th {\n",
       "        text-align: right;\n",
       "    }\n",
       "</style>\n",
       "<table border=\"1\" class=\"dataframe\">\n",
       "  <thead>\n",
       "    <tr style=\"text-align: right;\">\n",
       "      <th></th>\n",
       "      <th>Position</th>\n",
       "      <th>Level</th>\n",
       "      <th>Salary</th>\n",
       "    </tr>\n",
       "  </thead>\n",
       "  <tbody>\n",
       "    <tr>\n",
       "      <th>0</th>\n",
       "      <td>Business Analyst</td>\n",
       "      <td>1</td>\n",
       "      <td>45000</td>\n",
       "    </tr>\n",
       "    <tr>\n",
       "      <th>1</th>\n",
       "      <td>Junior Consultant</td>\n",
       "      <td>2</td>\n",
       "      <td>50000</td>\n",
       "    </tr>\n",
       "    <tr>\n",
       "      <th>2</th>\n",
       "      <td>Senior Consultant</td>\n",
       "      <td>3</td>\n",
       "      <td>60000</td>\n",
       "    </tr>\n",
       "    <tr>\n",
       "      <th>3</th>\n",
       "      <td>Manager</td>\n",
       "      <td>4</td>\n",
       "      <td>80000</td>\n",
       "    </tr>\n",
       "    <tr>\n",
       "      <th>4</th>\n",
       "      <td>Country Manager</td>\n",
       "      <td>5</td>\n",
       "      <td>110000</td>\n",
       "    </tr>\n",
       "  </tbody>\n",
       "</table>\n",
       "</div>"
      ],
      "text/plain": [
       "            Position  Level  Salary\n",
       "0   Business Analyst      1   45000\n",
       "1  Junior Consultant      2   50000\n",
       "2  Senior Consultant      3   60000\n",
       "3            Manager      4   80000\n",
       "4    Country Manager      5  110000"
      ]
     },
     "execution_count": 2,
     "metadata": {},
     "output_type": "execute_result"
    }
   ],
   "source": [
    "# Importing the dataset\n",
    "dataset=pd.read_csv(r'D:\\sumit_DS project\\Datasets with source_code\\ML\\positon_salaries\\Position_Salaries.csv')\n",
    "dataset.head()"
   ]
  },
  {
   "cell_type": "code",
   "execution_count": 3,
   "id": "4da20112",
   "metadata": {},
   "outputs": [
    {
     "name": "stdout",
     "output_type": "stream",
     "text": [
      "[[ 1]\n",
      " [ 2]\n",
      " [ 3]\n",
      " [ 4]\n",
      " [ 5]\n",
      " [ 6]\n",
      " [ 7]\n",
      " [ 8]\n",
      " [ 9]\n",
      " [10]]\n",
      "[  45000   50000   60000   80000  110000  150000  200000  300000  500000\n",
      " 1000000]\n"
     ]
    }
   ],
   "source": [
    "#now lets see what index we need to check, so when we look at the table hear we want to predict the salary  based on different level and then we predict salary of 6.5 level \n",
    "#we dont need the categorical column becuase that column is equivalent to level only\n",
    "#we encoded the positio level associated with each position level \n",
    "#so we need 2 columns to build the ML model & machine will learn the corelation b/w position and salary to predict if the employee is bluffing about salary\n",
    "#so we dont need the categorical data & we consider only 2 columns\n",
    "#so our X-matrix is only one column is level and y-matrix is salary\n",
    "#this dataset contains 3 columns - position , level & salary\n",
    "#if you take indexing from column wise then postion would be 0 index - position,1st index is lvele & 2nd index one is salary indexing\n",
    "\n",
    "\n",
    "X = dataset.iloc[:, 1:2].values\n",
    "print(X)\n",
    "#now we will create X matrix of feature and we will spcify the index 1 - LEVEL & however there is something\n",
    "#then i have to mention 2 because in python upper bound of range is excluded\n",
    "y = dataset.iloc[:, 2].values\n",
    "print(y)\n",
    "#Dependent variable we will specify the index 2\n"
   ]
  },
  {
   "cell_type": "code",
   "execution_count": 4,
   "id": "a30c3425",
   "metadata": {},
   "outputs": [],
   "source": [
    "# Fitting Linear Regression to the dataset\n",
    "\n",
    "from sklearn.linear_model import LinearRegression\n",
    "lin_reg = LinearRegression()\n",
    "#To compare both linear model created lin_reg & for polynomial we will mention as lin_reg2\n",
    "#so create a object of lin_reg and called the class LinearRegression"
   ]
  },
  {
   "cell_type": "code",
   "execution_count": 5,
   "id": "8a970442",
   "metadata": {},
   "outputs": [
    {
     "data": {
      "text/plain": [
       "LinearRegression()"
      ]
     },
     "execution_count": 5,
     "metadata": {},
     "output_type": "execute_result"
    }
   ],
   "source": [
    "lin_reg.fit(X, y)\n",
    "#fit the lin_reg object to X & y. now our simple linear regression is ready \n",
    "\n",
    "#now our simple linear regression is ready "
   ]
  },
  {
   "cell_type": "code",
   "execution_count": 6,
   "id": "7d1be366",
   "metadata": {},
   "outputs": [],
   "source": [
    "#to create this model we will import a PolynomialFeature\n",
    "# Fitting Polynomial Regression to the dataset\n",
    "from sklearn.preprocessing import PolynomialFeatures\n",
    "#preprocessing is library we used for feature scaling in data preprocessing\n",
    "#from preprocessing library we called the class as PolynomialFeatures class"
   ]
  },
  {
   "cell_type": "code",
   "execution_count": 7,
   "id": "6686ef14",
   "metadata": {},
   "outputs": [],
   "source": [
    "poly_reg=PolynomialFeatures(degree=5)\n",
    "#create an object called poly_reg & we will assigned the degree \n",
    "#what exactly poly_reg will do the transform the feature of X & y to new matrix called X_poly & y_poly\n",
    "#polyfeature will transfer from X1 to X1square, X2 to X2 square \n",
    "#it will transferm untill you mention the power\n",
    "#in one independent variable X  till 2,3,4 or 5 columns will be crreated based on the power\n",
    "#to the first step i will mention the default degree is 2 "
   ]
  },
  {
   "cell_type": "code",
   "execution_count": 8,
   "id": "a8ec3b53",
   "metadata": {},
   "outputs": [],
   "source": [
    "X_poly=poly_reg.fit_transform(X)\n",
    "#finaly we will create new X_poy object or X_poly matrix to hold newly created columns by polyfeatures\n",
    "#poly_reg is the object to fit and transform from X to X_poly matrix\n",
    "#we are transform from X independent to poly by adding degree 2"
   ]
  },
  {
   "cell_type": "code",
   "execution_count": 9,
   "id": "f97e90fc",
   "metadata": {},
   "outputs": [
    {
     "data": {
      "text/plain": [
       "PolynomialFeatures(degree=5)"
      ]
     },
     "execution_count": 9,
     "metadata": {},
     "output_type": "execute_result"
    }
   ],
   "source": [
    "#Lets see the variable explore what happend hear first upol click on X you get the orighinal level & in X_poly matrix we have 3 columns\n",
    "#in the X_poly where is our X which is our second column & if you see 2nd then you get the degree of square\n",
    "#remember in multiple linear regression we have to add manualy of column 1 called constant \n",
    "#when you called Poly_reg_transform automatically or bydefault 1 will be created\n",
    "\n",
    "poly_reg.fit(X_poly, y)\n",
    "#now we have to fit the poly_reg fit instad of x we have to fit with X_poly, y\n",
    "#in linear we have done lin_reg.fit (x,y)"
   ]
  },
  {
   "cell_type": "code",
   "execution_count": 10,
   "id": "e11b8496",
   "metadata": {},
   "outputs": [
    {
     "data": {
      "text/plain": [
       "LinearRegression()"
      ]
     },
     "execution_count": 10,
     "metadata": {},
     "output_type": "execute_result"
    }
   ],
   "source": [
    "lin_reg_2 = LinearRegression()\n",
    "#we crate an 2nd object for same LinearRegression\n",
    "lin_reg_2.fit(X_poly, y)\n",
    "#now we need to fit lineare regression object to X_poly & y\n",
    "#now our polynomial model is created & we will ready to review the truth or bluff part\n",
    "#now we build 2 regressor - linear regressor and polynomial regressor"
   ]
  },
  {
   "cell_type": "code",
   "execution_count": 11,
   "id": "cbfd0152",
   "metadata": {},
   "outputs": [
    {
     "data": {
      "image/png": "[encoded data removed]",
      "text/plain": [
       "<Figure size 432x288 with 1 Axes>"
      ]
     },
     "metadata": {
      "needs_background": "light"
     },
     "output_type": "display_data"
    }
   ],
   "source": [
    "#now we gonna visualize all the result & we will start all the observation point on x-asix and we will 10 related salary on y-axis\n",
    "#first we will draw the visualtin of linear regression model and then we will build the visualize of polynomial regression model\n",
    "#we will compare the true value of true observaiton made by the model\n",
    "\n",
    "# Visualising the Linear Regression results\n",
    "\n",
    "#lets starts the plotting by true observation \n",
    "plt.scatter(X, y, color = 'red')\n",
    "#we are going to plot for actual value of X & y\n",
    "plt.plot(X, lin_reg.predict(X), color = 'blue')\n",
    "#now plot for the prediction line where x coordinate are predictin points & for y-cordinates predicted value which is lin_reg.predict (x)\n",
    "plt.title('Truth or Bluff (Linear Regression)')\n",
    "plt.xlabel('Position level')\n",
    "plt.ylabel('Salary')\n",
    "plt.show()\n"
   ]
  },
  {
   "cell_type": "code",
   "execution_count": 12,
   "id": "84069ac4",
   "metadata": {},
   "outputs": [
    {
     "data": {
      "image/png": "[encoded data removed]",
      "text/plain": [
       "<Figure size 432x288 with 1 Axes>"
      ]
     },
     "metadata": {
      "needs_background": "light"
     },
     "output_type": "display_data"
    }
   ],
   "source": [
    "# Visualising the Polynomial Regression results\n",
    "plt.scatter(X, y, color = 'red')\n",
    "plt.plot(X, lin_reg_2.predict(poly_reg.fit_transform(X)), color = 'blue')\n",
    "#in y-coordinate we have to replace with lin_reg2 which we create for poly regression model\n",
    "#X_poly is not defined cuz we already defined in above plot, so insted of X_poly we will define complete fit_trasnform code \n",
    "plt.title('Truth or Bluff (Polynomial Regression)')\n",
    "plt.xlabel('Position level')\n",
    "plt.ylabel('Salary')\n",
    "plt.show()\n"
   ]
  },
  {
   "cell_type": "code",
   "execution_count": 13,
   "id": "8c0244ac",
   "metadata": {},
   "outputs": [
    {
     "data": {
      "text/plain": [
       "array([330378.78787879])"
      ]
     },
     "execution_count": 13,
     "metadata": {},
     "output_type": "execute_result"
    }
   ],
   "source": [
    "# Predicting a new result with Linear Regression\n",
    "   \n",
    "#means that show me the predicted salary coresponding to 6.5 & lets see what our linear regression model is predict \n",
    "#if you go back to linear plot 6.5 level we got as 331k somewher around & this is linear regression result and this is not the definitely not the best one for prediction\n"
   ]
  },
  {
   "cell_type": "code",
   "execution_count": 14,
   "id": "bc4537e5",
   "metadata": {},
   "outputs": [
    {
     "data": {
      "text/plain": [
       "array([174878.07765172])"
      ]
     },
     "execution_count": 14,
     "metadata": {},
     "output_type": "execute_result"
    }
   ],
   "source": [
    "# Predicting a new result with Polynomial Regression\n",
    "lin_reg_2.predict(poly_reg.fit_transform([[6.5]]))\n",
    "#This code show me that predicted salary of 6.5 level using poly reg model\n",
    "#That means employee is True and we solved this by using polyregression model\n"
   ]
  },
  {
   "cell_type": "markdown",
   "id": "6e3c21af",
   "metadata": {},
   "source": [
    "## Insight:\n",
    "1.Linear Regression predicts 331k salary for 6.5 years which is no way near the ooptimum value, hence we can say bad model.\n",
    "\n",
    "2.Polynomial Regression with degree 5 predicts 175k salary at 6.5 years which is somewhat close, hence good model.\n"
   ]
  },
  {
   "cell_type": "code",
   "execution_count": null,
   "id": "a8b2fe8e",
   "metadata": {},
   "outputs": [],
   "source": []
  }
 ],
 "metadata": {
  "kernelspec": {
   "display_name": "Python 3 (ipykernel)",
   "language": "python",
   "name": "python3"
  },
  "language_info": {
   "codemirror_mode": {
    "name": "ipython",
    "version": 3
   },
   "file_extension": ".py",
   "mimetype": "text/x-python",
   "name": "python",
   "nbconvert_exporter": "python",
   "pygments_lexer": "ipython3",
   "version": "3.9.7"
  }
 },
 "nbformat": 4,
 "nbformat_minor": 5
}
